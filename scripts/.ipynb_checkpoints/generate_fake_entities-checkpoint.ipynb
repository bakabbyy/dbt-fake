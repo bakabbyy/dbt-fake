{
 "cells": [
  {
   "cell_type": "code",
   "execution_count": 4,
   "metadata": {},
   "outputs": [],
   "source": [
    "import faker\n",
    "import pandas as pd\n",
    "fake = faker.Faker()"
   ]
  },
  {
   "cell_type": "markdown",
   "metadata": {},
   "source": [
    "## Create fake companies"
   ]
  },
  {
   "cell_type": "code",
   "execution_count": 22,
   "metadata": {},
   "outputs": [],
   "source": [
    "## Utilities"
   ]
  },
  {
   "cell_type": "code",
   "execution_count": 5,
   "metadata": {},
   "outputs": [],
   "source": [
    "def get_unique_fakes(provider, num_records):\n",
    "    # To ensure we get enough records we will initially generate 2X the number needed \n",
    "    records = [provider() for x in range(num_records * 2)]\n",
    "    unique_records = list(set(records))\n",
    "    if len(unique_records) < num_records:\n",
    "        raise Exception('Not enough unique records. Try generating fewer records.')\n",
    "    return unique_records[0:num_records]\n"
   ]
  },
  {
   "cell_type": "markdown",
   "metadata": {},
   "source": [
    "## Create fake companies"
   ]
  },
  {
   "cell_type": "code",
   "execution_count": 21,
   "metadata": {},
   "outputs": [],
   "source": [
    "num_companies = 10_000\n",
    "company_name_provider = lambda : fake.company() + ' ' + fake.company_suffix()  # Adding suffix give more uniqe names\n",
    "company_names = get_unique_fakes(company_name_provider, num_companies)\n",
    "company_slogans = get_unique_fakes(fake.catch_phrase, num_companies)\n",
    "company_purposes = get_unique_fakes(fake.bs, num_companies)\n",
    "\n",
    "companies = zip(company_names, company_slogans, company_purposes)\n",
    "company_records = [{'name': company[0], 'slogan': company[1], 'purpose': company[2]} for company in companies]\n",
    "companies_df = pd.DataFrame(company_records)\n",
    "companies_df.index.rename('id', inplace=True)\n",
    "companies_df.to_csv('../seeds/fake_companies.csv')\n"
   ]
  },
  {
   "cell_type": "markdown",
   "metadata": {},
   "source": [
    "## Create fake people"
   ]
  },
  {
   "cell_type": "code",
   "execution_count": 23,
   "metadata": {},
   "outputs": [
    {
     "data": {
      "text/plain": [
       "'90852'"
      ]
     },
     "execution_count": 23,
     "metadata": {},
     "output_type": "execute_result"
    }
   ],
   "source": [
    "fake.zipcode_in_state()"
   ]
  },
  {
   "cell_type": "code",
   "execution_count": 17,
   "metadata": {},
   "outputs": [
    {
     "data": {
      "text/html": [
       "<div>\n",
       "<style scoped>\n",
       "    .dataframe tbody tr th:only-of-type {\n",
       "        vertical-align: middle;\n",
       "    }\n",
       "\n",
       "    .dataframe tbody tr th {\n",
       "        vertical-align: top;\n",
       "    }\n",
       "\n",
       "    .dataframe thead th {\n",
       "        text-align: right;\n",
       "    }\n",
       "</style>\n",
       "<table border=\"1\" class=\"dataframe\">\n",
       "  <thead>\n",
       "    <tr style=\"text-align: right;\">\n",
       "      <th></th>\n",
       "      <th>name</th>\n",
       "      <th>slogan</th>\n",
       "      <th>purpose</th>\n",
       "    </tr>\n",
       "    <tr>\n",
       "      <th>id</th>\n",
       "      <th></th>\n",
       "      <th></th>\n",
       "      <th></th>\n",
       "    </tr>\n",
       "  </thead>\n",
       "  <tbody>\n",
       "    <tr>\n",
       "      <th>0</th>\n",
       "      <td>Lopez, Lynn and Davis Inc</td>\n",
       "      <td>Up-sized actuating circuit</td>\n",
       "      <td>morph open-source initiatives</td>\n",
       "    </tr>\n",
       "    <tr>\n",
       "      <th>1</th>\n",
       "      <td>Norris-Cook Inc</td>\n",
       "      <td>Adaptive optimal policy</td>\n",
       "      <td>disintermediate B2C portals</td>\n",
       "    </tr>\n",
       "    <tr>\n",
       "      <th>2</th>\n",
       "      <td>Pena-Montgomery Group</td>\n",
       "      <td>Extended bandwidth-monitored open system</td>\n",
       "      <td>benchmark B2B architectures</td>\n",
       "    </tr>\n",
       "    <tr>\n",
       "      <th>3</th>\n",
       "      <td>Kent-Humphrey LLC</td>\n",
       "      <td>Reduced optimal capacity</td>\n",
       "      <td>unleash vertical ROI</td>\n",
       "    </tr>\n",
       "    <tr>\n",
       "      <th>4</th>\n",
       "      <td>Parker-Anderson Group</td>\n",
       "      <td>Up-sized neutral utilization</td>\n",
       "      <td>morph strategic models</td>\n",
       "    </tr>\n",
       "    <tr>\n",
       "      <th>...</th>\n",
       "      <td>...</td>\n",
       "      <td>...</td>\n",
       "      <td>...</td>\n",
       "    </tr>\n",
       "    <tr>\n",
       "      <th>9995</th>\n",
       "      <td>Allison Ltd PLC</td>\n",
       "      <td>Universal demand-driven encryption</td>\n",
       "      <td>re-intermediate magnetic e-business</td>\n",
       "    </tr>\n",
       "    <tr>\n",
       "      <th>9996</th>\n",
       "      <td>Allen Inc and Sons</td>\n",
       "      <td>Managed web-enabled extranet</td>\n",
       "      <td>iterate rich markets</td>\n",
       "    </tr>\n",
       "    <tr>\n",
       "      <th>9997</th>\n",
       "      <td>Hays LLC LLC</td>\n",
       "      <td>Re-contextualized bi-directional budgetary man...</td>\n",
       "      <td>drive revolutionary partnerships</td>\n",
       "    </tr>\n",
       "    <tr>\n",
       "      <th>9998</th>\n",
       "      <td>Li PLC Ltd</td>\n",
       "      <td>Digitized homogeneous Local Area Network</td>\n",
       "      <td>scale end-to-end mindshare</td>\n",
       "    </tr>\n",
       "    <tr>\n",
       "      <th>9999</th>\n",
       "      <td>Cervantes PLC PLC</td>\n",
       "      <td>Versatile leadingedge Internet solution</td>\n",
       "      <td>matrix web-enabled networks</td>\n",
       "    </tr>\n",
       "  </tbody>\n",
       "</table>\n",
       "<p>10000 rows × 3 columns</p>\n",
       "</div>"
      ],
      "text/plain": [
       "                           name  \\\n",
       "id                                \n",
       "0     Lopez, Lynn and Davis Inc   \n",
       "1               Norris-Cook Inc   \n",
       "2         Pena-Montgomery Group   \n",
       "3             Kent-Humphrey LLC   \n",
       "4         Parker-Anderson Group   \n",
       "...                         ...   \n",
       "9995            Allison Ltd PLC   \n",
       "9996         Allen Inc and Sons   \n",
       "9997               Hays LLC LLC   \n",
       "9998                 Li PLC Ltd   \n",
       "9999          Cervantes PLC PLC   \n",
       "\n",
       "                                                 slogan  \\\n",
       "id                                                        \n",
       "0                            Up-sized actuating circuit   \n",
       "1                               Adaptive optimal policy   \n",
       "2              Extended bandwidth-monitored open system   \n",
       "3                              Reduced optimal capacity   \n",
       "4                          Up-sized neutral utilization   \n",
       "...                                                 ...   \n",
       "9995                 Universal demand-driven encryption   \n",
       "9996                       Managed web-enabled extranet   \n",
       "9997  Re-contextualized bi-directional budgetary man...   \n",
       "9998           Digitized homogeneous Local Area Network   \n",
       "9999            Versatile leadingedge Internet solution   \n",
       "\n",
       "                                  purpose  \n",
       "id                                         \n",
       "0           morph open-source initiatives  \n",
       "1             disintermediate B2C portals  \n",
       "2             benchmark B2B architectures  \n",
       "3                    unleash vertical ROI  \n",
       "4                  morph strategic models  \n",
       "...                                   ...  \n",
       "9995  re-intermediate magnetic e-business  \n",
       "9996                 iterate rich markets  \n",
       "9997     drive revolutionary partnerships  \n",
       "9998           scale end-to-end mindshare  \n",
       "9999          matrix web-enabled networks  \n",
       "\n",
       "[10000 rows x 3 columns]"
      ]
     },
     "execution_count": 17,
     "metadata": {},
     "output_type": "execute_result"
    }
   ],
   "source": [
    "companies_df"
   ]
  },
  {
   "cell_type": "markdown",
   "metadata": {},
   "source": [
    "## Create dates "
   ]
  },
  {
   "cell_type": "code",
   "execution_count": null,
   "metadata": {},
   "outputs": [],
   "source": []
  }
 ],
 "metadata": {
  "kernelspec": {
   "display_name": "Python 3 (ipykernel)",
   "language": "python",
   "name": "python3"
  },
  "language_info": {
   "codemirror_mode": {
    "name": "ipython",
    "version": 3
   },
   "file_extension": ".py",
   "mimetype": "text/x-python",
   "name": "python",
   "nbconvert_exporter": "python",
   "pygments_lexer": "ipython3",
   "version": "3.11.2"
  }
 },
 "nbformat": 4,
 "nbformat_minor": 2
}
